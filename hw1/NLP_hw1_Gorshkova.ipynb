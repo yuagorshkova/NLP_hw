{
  "nbformat": 4,
  "nbformat_minor": 0,
  "metadata": {
    "colab": {
      "name": "NLP_hw1_Gorshkova.ipynb",
      "provenance": [],
      "collapsed_sections": []
    },
    "kernelspec": {
      "name": "python3",
      "display_name": "Python 3"
    },
    "language_info": {
      "name": "python"
    }
  },
  "cells": [
    {
      "cell_type": "code",
      "metadata": {
        "colab": {
          "base_uri": "https://localhost:8080/"
        },
        "id": "ThOMtIbQqBXT",
        "outputId": "67452465-782d-4f40-cfea-f43055b76ae6"
      },
      "source": [
        "import requests\n",
        "import re\n",
        "from bs4 import BeautifulSoup\n",
        "import numpy as np\n",
        "import os\n",
        "from collections import Counter\n",
        "from tqdm import tqdm\n",
        "import pandas as pd\n",
        "\n",
        "! pip install pymystem3==0.1.10\n",
        "from pymystem3 import mystem\n",
        "import nltk\n",
        "nltk.download('punkt')\n",
        "from nltk import word_tokenize, sent_tokenize\n",
        "nltk.download('stopwords')\n",
        "from nltk.corpus import stopwords\n",
        "\n",
        "from sklearn.model_selection import train_test_split\n",
        "\n",
        "import matplotlib.pyplot as plt"
      ],
      "execution_count": 1,
      "outputs": [
        {
          "output_type": "stream",
          "name": "stdout",
          "text": [
            "Collecting pymystem3==0.1.10\n",
            "  Downloading pymystem3-0.1.10-py3-none-any.whl (10 kB)\n",
            "Requirement already satisfied: requests in /usr/local/lib/python3.7/dist-packages (from pymystem3==0.1.10) (2.23.0)\n",
            "Requirement already satisfied: certifi>=2017.4.17 in /usr/local/lib/python3.7/dist-packages (from requests->pymystem3==0.1.10) (2021.5.30)\n",
            "Requirement already satisfied: idna<3,>=2.5 in /usr/local/lib/python3.7/dist-packages (from requests->pymystem3==0.1.10) (2.10)\n",
            "Requirement already satisfied: urllib3!=1.25.0,!=1.25.1,<1.26,>=1.21.1 in /usr/local/lib/python3.7/dist-packages (from requests->pymystem3==0.1.10) (1.24.3)\n",
            "Requirement already satisfied: chardet<4,>=3.0.2 in /usr/local/lib/python3.7/dist-packages (from requests->pymystem3==0.1.10) (3.0.4)\n",
            "Installing collected packages: pymystem3\n",
            "  Attempting uninstall: pymystem3\n",
            "    Found existing installation: pymystem3 0.2.0\n",
            "    Uninstalling pymystem3-0.2.0:\n",
            "      Successfully uninstalled pymystem3-0.2.0\n",
            "Successfully installed pymystem3-0.1.10\n",
            "[nltk_data] Downloading package punkt to /root/nltk_data...\n",
            "[nltk_data]   Unzipping tokenizers/punkt.zip.\n",
            "[nltk_data] Downloading package stopwords to /root/nltk_data...\n",
            "[nltk_data]   Unzipping corpora/stopwords.zip.\n"
          ]
        }
      ]
    },
    {
      "cell_type": "markdown",
      "metadata": {
        "id": "dDI6DXcuEilS"
      },
      "source": [
        "## Web-scraping"
      ]
    },
    {
      "cell_type": "code",
      "metadata": {
        "id": "gupxA8P0ONzQ"
      },
      "source": [
        "#вспомогательная функция чтобы из неудобного ссупа без специальных тегов достать скор если он есть\n",
        "def get_score(soup):\n",
        "  s = soup.text\n",
        "  if 'из 10' in s:\n",
        "    score = int(s[s.find('из 10')-2])\n",
        "    if score == 0:\n",
        "      return 10\n",
        "    return score\n",
        "  else:\n",
        "    return None\n",
        "\n",
        "#функция, возвращающая суп по урлу\n",
        "def get_soup(url):\n",
        "  headers = {\"User-Agent\": \"Mozilla/5.0 (Macintosh; Intel Mac OS X 10_15_7) AppleWebKit/605.1.15 (KHTML, like Gecko) Version/14.1.2 Safari/605.1.15\"}\n",
        "  response = requests.get(url, headers=headers)\n",
        "  response.encoding = response.apparent_encoding\n",
        "  soup = BeautifulSoup(response.text)\n",
        "  return soup\n",
        "\n",
        "#функция, чтобы получить все зрительнские отзывы на один фильм и их скоры (тут все сразу записывается в файл)\n",
        "def get_film_reviews(url, filename='reviews.txt'):\n",
        "  soup = get_soup(url)\n",
        "  reviews_container = soup.find_all('div', {'class': 'jr-user-reviews jrUserReviewsContainer'})[0]\n",
        "  scores = [get_score(item) for item in reviews_container.find_all('div', {'class':'ReviewInfo'})]\n",
        "  reviews = [item.text.replace('\\n', ' ').replace('\\r', ' ') for item in reviews_container.find_all('div', {'class':'jrReviewContent'})]\n",
        "  reviews, scores = [reviews[i] for i in range(len(reviews)) if scores[i]], [scores[i] for i in range(len(reviews)) if scores[i]]\n",
        "  with open(filename, 'a') as outfile:\n",
        "    for i in range(len(reviews)):\n",
        "      outfile.write(str(scores[i])+'\\n')\n",
        "      outfile.write(reviews[i]+'\\n')\n",
        "\n",
        "#функция, которая находит на главной странице ссылки на фильмы, у которых есть хотя бы один отзыв\n",
        "def to_scrape(url):\n",
        "  soup = get_soup(url)\n",
        "  film_units = soup.find_all('div', {'class':'jrCardContent fwd-flex fwd-flex-col fwd-w-full fwd-h-full fwd-min-w-0'})\n",
        "  links = [f.find('a') for f in film_units]\n",
        "  ratings = [f.find('div', {'class':'jrOverallUser'}).text.replace('\\xa0', '')[:3] for f in film_units]\n",
        "  ratings = [True if len(r)>0 else False for r in ratings]\n",
        "  return ['https://www.megacritic.ru'+links[i]['href'] for i in range(len(links)) if ratings[i]]\n",
        "\n",
        "#функиця, которая собирает вссе ссылки на фильмы с помошью предыдущей с n_pages начиная со starting_page\n",
        "def get_links(url_prefix='https://www.megacritic.ru/novye/filmy?page=', n_pages=0, starting_page=1):\n",
        "  film_links = []\n",
        "  for i in range(starting_page, starting_page+ n_pages):\n",
        "    url = url_prefix + str(i)\n",
        "    film_links.extend(to_scrape(url))\n",
        "  return film_links\n",
        "\n",
        "#функиця, котрая позволяет собрать и записать в файл filename отзывы с n_pages начиная со starting_page\n",
        "def get_reviews(url_prefix='https://www.megacritic.ru/novye/filmy?page=', n_pages=0, starting_page=1, filename='reviews.txt'):\n",
        "  os.remove(filename)\n",
        "  film_links = get_links(n_pages=n_pages, starting_page=starting_page)\n",
        "  for url in film_links:\n",
        "    get_film_reviews(url, filename=filename)\n",
        "  print('all done!')"
      ],
      "execution_count": null,
      "outputs": []
    },
    {
      "cell_type": "markdown",
      "metadata": {
        "id": "0L9rRkCsFeKS"
      },
      "source": [
        "Используем последнюю функцию выше и получаем файл отзывов"
      ]
    },
    {
      "cell_type": "code",
      "metadata": {
        "colab": {
          "base_uri": "https://localhost:8080/"
        },
        "id": "uO8BXbPdCXlJ",
        "outputId": "a6d1d88d-6c06-421b-f84a-53582b002eb5"
      },
      "source": [
        "get_reviews(n_pages=30, starting_page=1)"
      ],
      "execution_count": null,
      "outputs": [
        {
          "output_type": "stream",
          "name": "stdout",
          "text": [
            "all done!\n"
          ]
        }
      ]
    },
    {
      "cell_type": "markdown",
      "metadata": {
        "id": "GbdKmSGZEdot"
      },
      "source": [
        "## Обработка"
      ]
    },
    {
      "cell_type": "markdown",
      "metadata": {
        "id": "OnJua8qMFinG"
      },
      "source": [
        "Считываем получившийся файл, разделяем отзывы и их скоры"
      ]
    },
    {
      "cell_type": "code",
      "metadata": {
        "id": "wJD_ZeFZIvmg"
      },
      "source": [
        "with open('reviews.txt', 'r') as f:\n",
        "  text = f.read().splitlines() \n",
        "scores = np.array(list(map(int, text[::2])))\n",
        "reviews = text[1::2]"
      ],
      "execution_count": 53,
      "outputs": []
    },
    {
      "cell_type": "markdown",
      "metadata": {
        "id": "UqNw8FYCGKvd"
      },
      "source": [
        "Приводим слова тексты к нижнему регистру, лемматизируем и очищаем от стоп-слов."
      ]
    },
    {
      "cell_type": "code",
      "metadata": {
        "colab": {
          "base_uri": "https://localhost:8080/"
        },
        "id": "cn2u8ZGTWwTK",
        "outputId": "023b9867-2d9f-4476-ca5b-2d02141e7ab4"
      },
      "source": [
        "m = mystem.Mystem()\n",
        "sw = stopwords.words('russian')\n",
        "\n",
        "def preprocess(text, sw=sw, m=m):\n",
        "  sents = sent_tokenize(text)\n",
        "  words = sum([[w for w in m.lemmatize(sent.lower()) if w.isalpha() and w not in sw] for sent in sents], [])\n",
        "  words = [w for w in words if len(w)>1]\n",
        "  return words\n",
        "\n",
        "corpus = np.array([preprocess(r) for r in reviews], dtype=object)"
      ],
      "execution_count": 4,
      "outputs": [
        {
          "output_type": "stream",
          "name": "stderr",
          "text": [
            "Installing mystem to /root/.local/bin/mystem from http://download.cdn.yandex.net/mystem/mystem-3.0-linux3.1-64bit.tar.gz\n"
          ]
        }
      ]
    },
    {
      "cell_type": "code",
      "metadata": {
        "colab": {
          "base_uri": "https://localhost:8080/"
        },
        "id": "-Uf6Cu2nxHWr",
        "outputId": "0a5498ee-b4bb-4a74-e788-76d86bb96053"
      },
      "source": [
        "from tqdm import tqdm\n",
        "corpus = []\n",
        "for i in tqdm(range(len(reviews))):\n",
        "  corpus.append(preprocess(reviews[i]))\n",
        "corpus = np.array(corpus, dtype=object)"
      ],
      "execution_count": 6,
      "outputs": [
        {
          "output_type": "stream",
          "name": "stderr",
          "text": [
            "100%|██████████| 2470/2470 [00:09<00:00, 273.07it/s]\n",
            "/usr/local/lib/python3.7/dist-packages/ipykernel_launcher.py:5: VisibleDeprecationWarning: Creating an ndarray from ragged nested sequences (which is a list-or-tuple of lists-or-tuples-or ndarrays with different lengths or shapes) is deprecated. If you meant to do this, you must specify 'dtype=object' when creating the ndarray\n",
            "  \"\"\"\n"
          ]
        }
      ]
    },
    {
      "cell_type": "code",
      "metadata": {
        "id": "sIiNjIPyLaZY"
      },
      "source": [
        "X_train, X_test, y_train, y_test = train_test_split(corpus, scores, test_size=0.33, random_state=42)"
      ],
      "execution_count": 7,
      "outputs": []
    },
    {
      "cell_type": "markdown",
      "metadata": {
        "id": "tf7uBvGvHv8J"
      },
      "source": [
        "## Множества положительных и отрицательных слов"
      ]
    },
    {
      "cell_type": "markdown",
      "metadata": {
        "id": "0-dXVBbJHZUx"
      },
      "source": [
        "Получим множества слов в положительных и отрицательных отзывах. Но, для того чтобы набор был более \"говорящим\",делить будем не пополам -- введем пороги для того что мы будем считать положительными и отрицательными отзывами. "
      ]
    },
    {
      "cell_type": "code",
      "metadata": {
        "colab": {
          "base_uri": "https://localhost:8080/",
          "height": 316
        },
        "id": "Z21sGDsBF_27",
        "outputId": "e3929e08-10d6-41c6-a3e8-60c3174b5b9a"
      },
      "source": [
        "plt.hist(scores)"
      ],
      "execution_count": 8,
      "outputs": [
        {
          "output_type": "execute_result",
          "data": {
            "text/plain": [
              "(array([544., 155., 207., 141., 160., 159., 184., 254., 198., 468.]),\n",
              " array([ 1. ,  1.9,  2.8,  3.7,  4.6,  5.5,  6.4,  7.3,  8.2,  9.1, 10. ]),\n",
              " <a list of 10 Patch objects>)"
            ]
          },
          "metadata": {},
          "execution_count": 8
        },
        {
          "output_type": "display_data",
          "data": {
            "image/png": "[encoded data removed]",
            "text/plain": [
              "<Figure size 432x288 with 1 Axes>"
            ]
          },
          "metadata": {
            "needs_background": "light"
          }
        }
      ]
    },
    {
      "cell_type": "code",
      "metadata": {
        "id": "mMqABumeIh-9"
      },
      "source": [
        "#функция, котрая позволяет получать сеты слов из положительных и отрицательных отзывов,\n",
        "#можно изменять порог скора для положительных и отрицательных отзывов и порог частотности, меньше которой слова отрезаются\n",
        "def get_sets(corpus, scores, positive_score_thr = 7, neagtive_score_thr = 4, counter_thr=0):\n",
        "  positive_mask = np.where(scores>positive_score_thr)[0]\n",
        "  negative_mask = np.where(scores<neagtive_score_thr)[0]\n",
        "  \n",
        "  pos_counter = Counter(corpus[positive_mask].sum())\n",
        "  pos_list = {k:v for k,v in pos_counter.items() if v>counter_thr}\n",
        "  neg_counter = Counter(corpus[negative_mask].sum())\n",
        "  neg_list = {k:v for k,v in neg_counter.items() if v>counter_thr}\n",
        "\n",
        "  pos_set = set(pos_list) - set(neg_list)\n",
        "  neg_set = set(neg_list) - set(pos_list)\n",
        "  return pos_set, neg_set"
      ],
      "execution_count": 9,
      "outputs": []
    },
    {
      "cell_type": "markdown",
      "metadata": {
        "id": "2QN6Kb2TNBZ7"
      },
      "source": [
        "## Cамый незамысловатый способ решения"
      ]
    },
    {
      "cell_type": "code",
      "metadata": {
        "id": "1CHwc9CULRH5"
      },
      "source": [
        "# 0 = negative\n",
        "# 1 = neutral\n",
        "# 2 = positive\n",
        "\n",
        "def map_scores(scores, positive_score_thr = 6, neagtive_score_thr = 5):\n",
        "  dictionary = {}\n",
        "  for i in range(1,11):\n",
        "    if i < neagtive_score_thr:\n",
        "      dictionary[i] = 0\n",
        "    elif i <= positive_score_thr:\n",
        "      dictionary[i] = 1\n",
        "    else:\n",
        "      dictionary[i] = 2\n",
        "  return np.array(list(map(dictionary.get, scores)))\n",
        "\n",
        "def stupid_predict(x, pos_set, neg_set):\n",
        "  pos_q, neg_q = 0, 0\n",
        "  for word in x:\n",
        "    if word in pos_set:\n",
        "      pos_q +=1\n",
        "    elif word in neg_set:\n",
        "      neg_q +=1\n",
        "  if pos_q>neg_q:\n",
        "    return 2\n",
        "  elif pos_q<neg_q:\n",
        "    return 0\n",
        "  else:\n",
        "    return 1"
      ],
      "execution_count": 20,
      "outputs": []
    },
    {
      "cell_type": "code",
      "metadata": {
        "id": "8MU5F7wkyEbd"
      },
      "source": [
        "from sklearn.metrics import accuracy_score\n",
        "\n",
        "def compute_stupid_predict_metric(X_train, X_test, y_train, y_test, \n",
        "                                  positive_score_thr = 6, neagtive_score_thr = 5, counter_thr=0):\n",
        "  pos_set, neg_set = get_sets(X_train, y_train, positive_score_thr = positive_score_thr, \n",
        "                              neagtive_score_thr = neagtive_score_thr, counter_thr=counter_thr)\n",
        "  y_test_mapped = map_scores(y_test, positive_score_thr = positive_score_thr, neagtive_score_thr = neagtive_score_thr)\n",
        "  y_pred = np.array([stupid_predict(X_test[i], pos_set, neg_set) for i in range(len(X_test))])\n",
        "  return accuracy_score(y_test_mapped, y_pred)"
      ],
      "execution_count": 23,
      "outputs": []
    },
    {
      "cell_type": "code",
      "metadata": {
        "colab": {
          "base_uri": "https://localhost:8080/",
          "height": 235
        },
        "id": "8OMe-0ZTzznD",
        "outputId": "42053e28-24ca-405e-e13f-889d77df15f2"
      },
      "source": [
        "test_scores = {}\n",
        "for pst, nst in zip([6,7,8,9], [5,4,3,2]):\n",
        "  key = 'pst = {}, nst = {}'.format(pst,nst)\n",
        "  test_scores[key] = []\n",
        "  for thr in [0,1,2,3,4,5]:\n",
        "    test_scores[key].append(compute_stupid_predict_metric(X_train, X_test, y_train, y_test, \n",
        "                                  positive_score_thr = pst, neagtive_score_thr = nst, counter_thr=thr))\n",
        "    \n",
        "pd.DataFrame(test_scores)"
      ],
      "execution_count": 30,
      "outputs": [
        {
          "output_type": "execute_result",
          "data": {
            "text/html": [
              "<div>\n",
              "<style scoped>\n",
              "    .dataframe tbody tr th:only-of-type {\n",
              "        vertical-align: middle;\n",
              "    }\n",
              "\n",
              "    .dataframe tbody tr th {\n",
              "        vertical-align: top;\n",
              "    }\n",
              "\n",
              "    .dataframe thead th {\n",
              "        text-align: right;\n",
              "    }\n",
              "</style>\n",
              "<table border=\"1\" class=\"dataframe\">\n",
              "  <thead>\n",
              "    <tr style=\"text-align: right;\">\n",
              "      <th></th>\n",
              "      <th>pst = 6, nst = 5</th>\n",
              "      <th>pst = 7, nst = 4</th>\n",
              "      <th>pst = 8, nst = 3</th>\n",
              "      <th>pst = 9, nst = 2</th>\n",
              "    </tr>\n",
              "  </thead>\n",
              "  <tbody>\n",
              "    <tr>\n",
              "      <th>0</th>\n",
              "      <td>0.544118</td>\n",
              "      <td>0.503676</td>\n",
              "      <td>0.441176</td>\n",
              "      <td>0.376225</td>\n",
              "    </tr>\n",
              "    <tr>\n",
              "      <th>1</th>\n",
              "      <td>0.553922</td>\n",
              "      <td>0.523284</td>\n",
              "      <td>0.490196</td>\n",
              "      <td>0.404412</td>\n",
              "    </tr>\n",
              "    <tr>\n",
              "      <th>2</th>\n",
              "      <td>0.585784</td>\n",
              "      <td>0.578431</td>\n",
              "      <td>0.504902</td>\n",
              "      <td>0.425245</td>\n",
              "    </tr>\n",
              "    <tr>\n",
              "      <th>3</th>\n",
              "      <td>0.616422</td>\n",
              "      <td>0.580882</td>\n",
              "      <td>0.514706</td>\n",
              "      <td>0.403186</td>\n",
              "    </tr>\n",
              "    <tr>\n",
              "      <th>4</th>\n",
              "      <td>0.629902</td>\n",
              "      <td>0.578431</td>\n",
              "      <td>0.509804</td>\n",
              "      <td>0.404412</td>\n",
              "    </tr>\n",
              "    <tr>\n",
              "      <th>5</th>\n",
              "      <td>0.621324</td>\n",
              "      <td>0.604167</td>\n",
              "      <td>0.506127</td>\n",
              "      <td>0.424020</td>\n",
              "    </tr>\n",
              "  </tbody>\n",
              "</table>\n",
              "</div>"
            ],
            "text/plain": [
              "   pst = 6, nst = 5  pst = 7, nst = 4  pst = 8, nst = 3  pst = 9, nst = 2\n",
              "0          0.544118          0.503676          0.441176          0.376225\n",
              "1          0.553922          0.523284          0.490196          0.404412\n",
              "2          0.585784          0.578431          0.504902          0.425245\n",
              "3          0.616422          0.580882          0.514706          0.403186\n",
              "4          0.629902          0.578431          0.509804          0.404412\n",
              "5          0.621324          0.604167          0.506127          0.424020"
            ]
          },
          "metadata": {},
          "execution_count": 30
        }
      ]
    },
    {
      "cell_type": "markdown",
      "metadata": {
        "id": "EiuzLr9c3GdY"
      },
      "source": [
        "Лучший результат на новых данных показывает \"модель\" с делением отзывы на отрицательные < 5 и положительные > 6 с порогом словаря 4 -- 63%.  Посмотрим на ее словари:"
      ]
    },
    {
      "cell_type": "code",
      "metadata": {
        "colab": {
          "base_uri": "https://localhost:8080/",
          "height": 669
        },
        "id": "Lpl2HTW24JT8",
        "outputId": "db095f55-2cf7-4d2f-9662-8414d88dd18b"
      },
      "source": [
        "pos_set, neg_set = get_sets(X_train, y_train, positive_score_thr = 6, \n",
        "                              neagtive_score_thr = 5, counter_thr=4)\n",
        "pd.DataFrame({'pos':list(pos_set)[:20], 'neg':list(neg_set)[:20]})"
      ],
      "execution_count": 33,
      "outputs": [
        {
          "output_type": "execute_result",
          "data": {
            "text/html": [
              "<div>\n",
              "<style scoped>\n",
              "    .dataframe tbody tr th:only-of-type {\n",
              "        vertical-align: middle;\n",
              "    }\n",
              "\n",
              "    .dataframe tbody tr th {\n",
              "        vertical-align: top;\n",
              "    }\n",
              "\n",
              "    .dataframe thead th {\n",
              "        text-align: right;\n",
              "    }\n",
              "</style>\n",
              "<table border=\"1\" class=\"dataframe\">\n",
              "  <thead>\n",
              "    <tr style=\"text-align: right;\">\n",
              "      <th></th>\n",
              "      <th>pos</th>\n",
              "      <th>neg</th>\n",
              "    </tr>\n",
              "  </thead>\n",
              "  <tbody>\n",
              "    <tr>\n",
              "      <th>0</th>\n",
              "      <td>прекрасно</td>\n",
              "      <td>тупость</td>\n",
              "    </tr>\n",
              "    <tr>\n",
              "      <th>1</th>\n",
              "      <td>рецензия</td>\n",
              "      <td>позор</td>\n",
              "    </tr>\n",
              "    <tr>\n",
              "      <th>2</th>\n",
              "      <td>квин</td>\n",
              "      <td>поступок</td>\n",
              "    </tr>\n",
              "    <tr>\n",
              "      <th>3</th>\n",
              "      <td>приличный</td>\n",
              "      <td>вебой</td>\n",
              "    </tr>\n",
              "    <tr>\n",
              "      <th>4</th>\n",
              "      <td>одновременно</td>\n",
              "      <td>явный</td>\n",
              "    </tr>\n",
              "    <tr>\n",
              "      <th>5</th>\n",
              "      <td>фишка</td>\n",
              "      <td>кадры</td>\n",
              "    </tr>\n",
              "    <tr>\n",
              "      <th>6</th>\n",
              "      <td>предыдущий</td>\n",
              "      <td>кошмар</td>\n",
              "    </tr>\n",
              "    <tr>\n",
              "      <th>7</th>\n",
              "      <td>дурак</td>\n",
              "      <td>форма</td>\n",
              "    </tr>\n",
              "    <tr>\n",
              "      <th>8</th>\n",
              "      <td>продумывать</td>\n",
              "      <td>видео</td>\n",
              "    </tr>\n",
              "    <tr>\n",
              "      <th>9</th>\n",
              "      <td>трагедия</td>\n",
              "      <td>уважаемый</td>\n",
              "    </tr>\n",
              "    <tr>\n",
              "      <th>10</th>\n",
              "      <td>редко</td>\n",
              "      <td>девятаев</td>\n",
              "    </tr>\n",
              "    <tr>\n",
              "      <th>11</th>\n",
              "      <td>завораживать</td>\n",
              "      <td>посредственный</td>\n",
              "    </tr>\n",
              "    <tr>\n",
              "      <th>12</th>\n",
              "      <td>насколько</td>\n",
              "      <td>идиотский</td>\n",
              "    </tr>\n",
              "    <tr>\n",
              "      <th>13</th>\n",
              "      <td>прикольный</td>\n",
              "      <td>третий</td>\n",
              "    </tr>\n",
              "    <tr>\n",
              "      <th>14</th>\n",
              "      <td>саундтрек</td>\n",
              "      <td>просить</td>\n",
              "    </tr>\n",
              "    <tr>\n",
              "      <th>15</th>\n",
              "      <td>фраза</td>\n",
              "      <td>ефремов</td>\n",
              "    </tr>\n",
              "    <tr>\n",
              "      <th>16</th>\n",
              "      <td>прощать</td>\n",
              "      <td>малобюджетный</td>\n",
              "    </tr>\n",
              "    <tr>\n",
              "      <th>17</th>\n",
              "      <td>операторский</td>\n",
              "      <td>господин</td>\n",
              "    </tr>\n",
              "    <tr>\n",
              "      <th>18</th>\n",
              "      <td>однако</td>\n",
              "      <td>ноль</td>\n",
              "    </tr>\n",
              "    <tr>\n",
              "      <th>19</th>\n",
              "      <td>молодец</td>\n",
              "      <td>ряд</td>\n",
              "    </tr>\n",
              "  </tbody>\n",
              "</table>\n",
              "</div>"
            ],
            "text/plain": [
              "             pos             neg\n",
              "0      прекрасно         тупость\n",
              "1       рецензия           позор\n",
              "2           квин        поступок\n",
              "3      приличный           вебой\n",
              "4   одновременно           явный\n",
              "5          фишка           кадры\n",
              "6     предыдущий          кошмар\n",
              "7          дурак           форма\n",
              "8    продумывать           видео\n",
              "9       трагедия       уважаемый\n",
              "10         редко        девятаев\n",
              "11  завораживать  посредственный\n",
              "12     насколько       идиотский\n",
              "13    прикольный          третий\n",
              "14     саундтрек         просить\n",
              "15         фраза         ефремов\n",
              "16       прощать   малобюджетный\n",
              "17  операторский        господин\n",
              "18        однако            ноль\n",
              "19       молодец             ряд"
            ]
          },
          "metadata": {},
          "execution_count": 33
        }
      ]
    },
    {
      "cell_type": "markdown",
      "metadata": {
        "id": "CJyBXMoD2DSA"
      },
      "source": [
        "## Улучшения\n"
      ]
    },
    {
      "cell_type": "markdown",
      "metadata": {
        "id": "Imo5rdGA_O_u"
      },
      "source": [
        "### Словам можно дать веса\n",
        "Проще всего получить те же самые множества слов, встречающихся только в положительных или только отрицательных множествах, но дать им веса в зависимости от того, насколько часто они встречаются в таких отзывах. В предикте вместо сравнения количества тех или иных слов складывать веса."
      ]
    },
    {
      "cell_type": "code",
      "metadata": {
        "id": "TLglkh9_HFug"
      },
      "source": [
        "def get_counters(corpus, scores, positive_score_thr = 7, neagtive_score_thr = 4, counter_thr=0):\n",
        "  positive_mask = np.where(scores>positive_score_thr)[0]\n",
        "  negative_mask = np.where(scores<neagtive_score_thr)[0]\n",
        "  \n",
        "  pos_counter = Counter(corpus[positive_mask].sum())\n",
        "  pos_unique = list(pos_counter)\n",
        "  neg_counter = Counter(corpus[negative_mask].sum())\n",
        "  neg_unique = list(neg_counter)\n",
        "  \n",
        "  pos_list = {k:v for k,v in pos_counter.items() if v>counter_thr and k not in neg_unique}\n",
        "  neg_list = {k:v for k,v in neg_counter.items() if v>counter_thr and k not in pos_unique}\n",
        "  return pos_list, neg_list\n",
        "\n",
        "def slightly_smarter_predict(x, pos_counter, neg_counter):\n",
        "  pos_sum, neg_sum = 0, 0\n",
        "  pos, neg = list(pos_counter.keys()), list(neg_counter.keys())\n",
        "  for word in x:\n",
        "    if word in pos:\n",
        "      pos_sum += pos_counter[word]\n",
        "    elif word in neg:\n",
        "      neg_sum += neg_counter[word]\n",
        "  if pos_sum>neg_sum:\n",
        "    return 2\n",
        "  elif pos_sum<neg_sum:\n",
        "    return 0\n",
        "  else:\n",
        "    return 1\n",
        "\n",
        "def compute_slightly_smarter_metric(X_train, X_test, y_train, y_test, \n",
        "                                  positive_score_thr = 6, neagtive_score_thr = 5, counter_thr=0):\n",
        "  pos_counter, neg_counter = get_counters(X_train, y_train, positive_score_thr = positive_score_thr, \n",
        "                              neagtive_score_thr = neagtive_score_thr, counter_thr=counter_thr)\n",
        "  y_test_mapped = map_scores(y_test, positive_score_thr = positive_score_thr, neagtive_score_thr = neagtive_score_thr)\n",
        "  y_pred = np.array([slightly_smarter_predict(X_test[i], pos_counter, neg_counter) for i in range(len(X_test))])\n",
        "  return accuracy_score(y_test_mapped, y_pred)"
      ],
      "execution_count": 46,
      "outputs": []
    },
    {
      "cell_type": "code",
      "metadata": {
        "id": "hqoScfYG5zNS"
      },
      "source": [
        "pos_counter, neg_counter = get_counters(X_train, y_train, positive_score_thr = 7, \n",
        "                              neagtive_score_thr = 4, counter_thr=3)\n",
        "y_mapped = map_scores(y_test, positive_score_thr = 7, neagtive_score_thr = 4)"
      ],
      "execution_count": 41,
      "outputs": []
    },
    {
      "cell_type": "code",
      "metadata": {
        "colab": {
          "base_uri": "https://localhost:8080/",
          "height": 235
        },
        "id": "gfjyQsHf6yI-",
        "outputId": "a2755a35-9470-434c-e0ff-5cfb3cf3032e"
      },
      "source": [
        "test_scores = {}\n",
        "for pst, nst in zip([6,7,8,9], [5,4,3,2]):\n",
        "  key = 'pst = {}, nst = {}'.format(pst,nst)\n",
        "  test_scores[key] = []\n",
        "  for thr in [0,1,2,3,4,5]:\n",
        "    test_scores[key].append(compute_slightly_smarter_metric(X_train, X_test, y_train, y_test, \n",
        "                                  positive_score_thr = pst, neagtive_score_thr = nst, counter_thr=thr))\n",
        "    \n",
        "pd.DataFrame(test_scores)"
      ],
      "execution_count": 47,
      "outputs": [
        {
          "output_type": "execute_result",
          "data": {
            "text/html": [
              "<div>\n",
              "<style scoped>\n",
              "    .dataframe tbody tr th:only-of-type {\n",
              "        vertical-align: middle;\n",
              "    }\n",
              "\n",
              "    .dataframe tbody tr th {\n",
              "        vertical-align: top;\n",
              "    }\n",
              "\n",
              "    .dataframe thead th {\n",
              "        text-align: right;\n",
              "    }\n",
              "</style>\n",
              "<table border=\"1\" class=\"dataframe\">\n",
              "  <thead>\n",
              "    <tr style=\"text-align: right;\">\n",
              "      <th></th>\n",
              "      <th>pst = 6, nst = 5</th>\n",
              "      <th>pst = 7, nst = 4</th>\n",
              "      <th>pst = 8, nst = 3</th>\n",
              "      <th>pst = 9, nst = 2</th>\n",
              "    </tr>\n",
              "  </thead>\n",
              "  <tbody>\n",
              "    <tr>\n",
              "      <th>0</th>\n",
              "      <td>0.568627</td>\n",
              "      <td>0.535539</td>\n",
              "      <td>0.452206</td>\n",
              "      <td>0.366422</td>\n",
              "    </tr>\n",
              "    <tr>\n",
              "      <th>1</th>\n",
              "      <td>0.514706</td>\n",
              "      <td>0.495098</td>\n",
              "      <td>0.452206</td>\n",
              "      <td>0.368873</td>\n",
              "    </tr>\n",
              "    <tr>\n",
              "      <th>2</th>\n",
              "      <td>0.458333</td>\n",
              "      <td>0.480392</td>\n",
              "      <td>0.453431</td>\n",
              "      <td>0.432598</td>\n",
              "    </tr>\n",
              "    <tr>\n",
              "      <th>3</th>\n",
              "      <td>0.421569</td>\n",
              "      <td>0.464461</td>\n",
              "      <td>0.466912</td>\n",
              "      <td>0.464461</td>\n",
              "    </tr>\n",
              "    <tr>\n",
              "      <th>4</th>\n",
              "      <td>0.373775</td>\n",
              "      <td>0.425245</td>\n",
              "      <td>0.479167</td>\n",
              "      <td>0.492647</td>\n",
              "    </tr>\n",
              "    <tr>\n",
              "      <th>5</th>\n",
              "      <td>0.329657</td>\n",
              "      <td>0.401961</td>\n",
              "      <td>0.469363</td>\n",
              "      <td>0.493873</td>\n",
              "    </tr>\n",
              "  </tbody>\n",
              "</table>\n",
              "</div>"
            ],
            "text/plain": [
              "   pst = 6, nst = 5  pst = 7, nst = 4  pst = 8, nst = 3  pst = 9, nst = 2\n",
              "0          0.568627          0.535539          0.452206          0.366422\n",
              "1          0.514706          0.495098          0.452206          0.368873\n",
              "2          0.458333          0.480392          0.453431          0.432598\n",
              "3          0.421569          0.464461          0.466912          0.464461\n",
              "4          0.373775          0.425245          0.479167          0.492647\n",
              "5          0.329657          0.401961          0.469363          0.493873"
            ]
          },
          "metadata": {},
          "execution_count": 47
        }
      ]
    },
    {
      "cell_type": "markdown",
      "metadata": {
        "id": "-vBUOXBL7XIj"
      },
      "source": [
        "Итог: :/// получилось хуже\n",
        "Как это можно исправить: вместо того чтобы считать веса плохости (по возрастанию) и хорошести (тоже по возрастанию), можно сделать одну шкалу, не деля слова -- взять все слова и по тому, насколько часто они входили в плохие или хорошие отзывы дать им вес: чем меньше, тем слово \"хуже\", чем больше -- тем \"лучше\".\n",
        "<br/>\n",
        "А пока я хочу попробовать немного другую идею. "
      ]
    },
    {
      "cell_type": "markdown",
      "metadata": {
        "id": "Kcq3qxMi9BSC"
      },
      "source": [
        "### N-граммы\n",
        "\"Полное наслаждение\" и \"полное разочарование\" -- разные вещи.\n",
        "Переделаем словарь и воспользуемся старыми функциями для предсказания и оценки. Посмотрим на биграммы."
      ]
    },
    {
      "cell_type": "code",
      "metadata": {
        "id": "AwVqu7899S6a"
      },
      "source": [
        "def get_bigram_corpus(corpus):\n",
        "  return np.array([[' '.join([doc[i], doc[i+1]]) for i in range(len(doc)-1)] for doc in corpus],dtype=object)\n",
        "\n",
        "bigram_corpus = get_bigram_corpus(corpus)\n",
        "X_train, X_test, y_train, y_test = train_test_split(bigram_corpus, scores, test_size=0.33, random_state=42)"
      ],
      "execution_count": 72,
      "outputs": []
    },
    {
      "cell_type": "code",
      "metadata": {
        "colab": {
          "base_uri": "https://localhost:8080/",
          "height": 235
        },
        "id": "aO0F6vlT9S1r",
        "outputId": "a9d5b744-1389-4203-ad79-e02becf82b7b"
      },
      "source": [
        "test_scores = {}\n",
        "for pst, nst in zip([6,7,8,9], [5,4,3,2]):\n",
        "  key = 'pst = {}, nst = {}'.format(pst,nst)\n",
        "  test_scores[key] = []\n",
        "  for thr in [0,1,2,3,4,5]:\n",
        "    test_scores[key].append(compute_stupid_predict_metric(X_train, X_test, y_train, y_test, \n",
        "                                  positive_score_thr = pst, neagtive_score_thr = nst, counter_thr=thr))\n",
        "    \n",
        "pd.DataFrame(test_scores)"
      ],
      "execution_count": 65,
      "outputs": [
        {
          "output_type": "execute_result",
          "data": {
            "text/html": [
              "<div>\n",
              "<style scoped>\n",
              "    .dataframe tbody tr th:only-of-type {\n",
              "        vertical-align: middle;\n",
              "    }\n",
              "\n",
              "    .dataframe tbody tr th {\n",
              "        vertical-align: top;\n",
              "    }\n",
              "\n",
              "    .dataframe thead th {\n",
              "        text-align: right;\n",
              "    }\n",
              "</style>\n",
              "<table border=\"1\" class=\"dataframe\">\n",
              "  <thead>\n",
              "    <tr style=\"text-align: right;\">\n",
              "      <th></th>\n",
              "      <th>pst = 6, nst = 5</th>\n",
              "      <th>pst = 7, nst = 4</th>\n",
              "      <th>pst = 8, nst = 3</th>\n",
              "      <th>pst = 9, nst = 2</th>\n",
              "    </tr>\n",
              "  </thead>\n",
              "  <tbody>\n",
              "    <tr>\n",
              "      <th>0</th>\n",
              "      <td>0.609069</td>\n",
              "      <td>0.582108</td>\n",
              "      <td>0.479167</td>\n",
              "      <td>0.421569</td>\n",
              "    </tr>\n",
              "    <tr>\n",
              "      <th>1</th>\n",
              "      <td>0.552696</td>\n",
              "      <td>0.530637</td>\n",
              "      <td>0.481618</td>\n",
              "      <td>0.464461</td>\n",
              "    </tr>\n",
              "    <tr>\n",
              "      <th>2</th>\n",
              "      <td>0.502451</td>\n",
              "      <td>0.517157</td>\n",
              "      <td>0.487745</td>\n",
              "      <td>0.500000</td>\n",
              "    </tr>\n",
              "    <tr>\n",
              "      <th>3</th>\n",
              "      <td>0.484069</td>\n",
              "      <td>0.486520</td>\n",
              "      <td>0.507353</td>\n",
              "      <td>0.509804</td>\n",
              "    </tr>\n",
              "    <tr>\n",
              "      <th>4</th>\n",
              "      <td>0.466912</td>\n",
              "      <td>0.460784</td>\n",
              "      <td>0.498775</td>\n",
              "      <td>0.496324</td>\n",
              "    </tr>\n",
              "    <tr>\n",
              "      <th>5</th>\n",
              "      <td>0.432598</td>\n",
              "      <td>0.452206</td>\n",
              "      <td>0.484069</td>\n",
              "      <td>0.504902</td>\n",
              "    </tr>\n",
              "  </tbody>\n",
              "</table>\n",
              "</div>"
            ],
            "text/plain": [
              "   pst = 6, nst = 5  pst = 7, nst = 4  pst = 8, nst = 3  pst = 9, nst = 2\n",
              "0          0.609069          0.582108          0.479167          0.421569\n",
              "1          0.552696          0.530637          0.481618          0.464461\n",
              "2          0.502451          0.517157          0.487745          0.500000\n",
              "3          0.484069          0.486520          0.507353          0.509804\n",
              "4          0.466912          0.460784          0.498775          0.496324\n",
              "5          0.432598          0.452206          0.484069          0.504902"
            ]
          },
          "metadata": {},
          "execution_count": 65
        }
      ]
    },
    {
      "cell_type": "code",
      "metadata": {
        "colab": {
          "base_uri": "https://localhost:8080/",
          "height": 235
        },
        "id": "pjj9dKak9SxO",
        "outputId": "dfd87a56-6762-44fc-a289-2c51b6cb4f08"
      },
      "source": [
        "test_scores = {}\n",
        "for pst, nst in zip([6,7,8,9], [5,4,3,2]):\n",
        "  key = 'pst = {}, nst = {}'.format(pst,nst)\n",
        "  test_scores[key] = []\n",
        "  for thr in [0,1,2,3,4,5]:\n",
        "    test_scores[key].append(compute_slightly_smarter_metric(X_train, X_test, y_train, y_test, \n",
        "                                  positive_score_thr = pst, neagtive_score_thr = nst, counter_thr=thr))\n",
        "    \n",
        "pd.DataFrame(test_scores)"
      ],
      "execution_count": 66,
      "outputs": [
        {
          "output_type": "execute_result",
          "data": {
            "text/html": [
              "<div>\n",
              "<style scoped>\n",
              "    .dataframe tbody tr th:only-of-type {\n",
              "        vertical-align: middle;\n",
              "    }\n",
              "\n",
              "    .dataframe tbody tr th {\n",
              "        vertical-align: top;\n",
              "    }\n",
              "\n",
              "    .dataframe thead th {\n",
              "        text-align: right;\n",
              "    }\n",
              "</style>\n",
              "<table border=\"1\" class=\"dataframe\">\n",
              "  <thead>\n",
              "    <tr style=\"text-align: right;\">\n",
              "      <th></th>\n",
              "      <th>pst = 6, nst = 5</th>\n",
              "      <th>pst = 7, nst = 4</th>\n",
              "      <th>pst = 8, nst = 3</th>\n",
              "      <th>pst = 9, nst = 2</th>\n",
              "    </tr>\n",
              "  </thead>\n",
              "  <tbody>\n",
              "    <tr>\n",
              "      <th>0</th>\n",
              "      <td>0.636029</td>\n",
              "      <td>0.604167</td>\n",
              "      <td>0.475490</td>\n",
              "      <td>0.395833</td>\n",
              "    </tr>\n",
              "    <tr>\n",
              "      <th>1</th>\n",
              "      <td>0.517157</td>\n",
              "      <td>0.526961</td>\n",
              "      <td>0.500000</td>\n",
              "      <td>0.479167</td>\n",
              "    </tr>\n",
              "    <tr>\n",
              "      <th>2</th>\n",
              "      <td>0.412990</td>\n",
              "      <td>0.474265</td>\n",
              "      <td>0.501225</td>\n",
              "      <td>0.556373</td>\n",
              "    </tr>\n",
              "    <tr>\n",
              "      <th>3</th>\n",
              "      <td>0.351716</td>\n",
              "      <td>0.428922</td>\n",
              "      <td>0.512255</td>\n",
              "      <td>0.594363</td>\n",
              "    </tr>\n",
              "    <tr>\n",
              "      <th>4</th>\n",
              "      <td>0.305147</td>\n",
              "      <td>0.401961</td>\n",
              "      <td>0.513480</td>\n",
              "      <td>0.598039</td>\n",
              "    </tr>\n",
              "    <tr>\n",
              "      <th>5</th>\n",
              "      <td>0.256127</td>\n",
              "      <td>0.365196</td>\n",
              "      <td>0.512255</td>\n",
              "      <td>0.595588</td>\n",
              "    </tr>\n",
              "  </tbody>\n",
              "</table>\n",
              "</div>"
            ],
            "text/plain": [
              "   pst = 6, nst = 5  pst = 7, nst = 4  pst = 8, nst = 3  pst = 9, nst = 2\n",
              "0          0.636029          0.604167          0.475490          0.395833\n",
              "1          0.517157          0.526961          0.500000          0.479167\n",
              "2          0.412990          0.474265          0.501225          0.556373\n",
              "3          0.351716          0.428922          0.512255          0.594363\n",
              "4          0.305147          0.401961          0.513480          0.598039\n",
              "5          0.256127          0.365196          0.512255          0.595588"
            ]
          },
          "metadata": {},
          "execution_count": 66
        }
      ]
    },
    {
      "cell_type": "markdown",
      "metadata": {
        "id": "6jY-Cc2EAM8I"
      },
      "source": [
        "Совмещением первой идеи и биграмм получилось побить самый простой способ на 0,6% 🥲"
      ]
    },
    {
      "cell_type": "markdown",
      "metadata": {
        "id": "Gjqvb8N78c_l"
      },
      "source": [
        "### ML \n",
        "1. Векторизовать тексты с помощью count_vectorizer'а и построить какую-нибудь модель, например Support Vector Machine\n",
        "2. можно еще на tf-idf"
      ]
    },
    {
      "cell_type": "code",
      "metadata": {
        "id": "sJkWqrbQ4D4O"
      },
      "source": [
        "from sklearn.feature_extraction.text import CountVectorizer\n",
        "\n",
        "vectorizer = CountVectorizer(tokenizer=lambda x: x, preprocessor=lambda x: x)\n",
        "count_vec = vectorizer.fit_transform(corpus)\n",
        "scores = map_scores(scores, positive_score_thr = 7, neagtive_score_thr = 4)\n",
        "X_train, X_test, y_train, y_test = train_test_split(count_vec, scores, test_size=0.33, random_state=42)"
      ],
      "execution_count": 85,
      "outputs": []
    },
    {
      "cell_type": "code",
      "metadata": {
        "colab": {
          "base_uri": "https://localhost:8080/"
        },
        "id": "j7zutiUR4Dv4",
        "outputId": "4a03c6bb-df5e-482e-f50c-91b6889febc4"
      },
      "source": [
        "from sklearn.linear_model import SGDClassifier\n",
        "from sklearn.metrics import classification_report\n",
        "\n",
        "sgd = SGDClassifier(loss='hinge', penalty='l2',alpha=1e-3, random_state=42, max_iter=5, tol=None)\n",
        "sgd.fit(X_train, y_train)\n",
        "y_pred = sgd.predict(X_test)\n",
        "\n",
        "print('accuracy %s' % accuracy_score(y_pred, y_test))\n",
        "print(classification_report(y_test, y_pred))"
      ],
      "execution_count": 88,
      "outputs": [
        {
          "output_type": "stream",
          "name": "stdout",
          "text": [
            "accuracy 0.6899509803921569\n",
            "              precision    recall  f1-score   support\n",
            "\n",
            "           0       0.80      0.71      0.75       308\n",
            "           1       0.54      0.47      0.50       200\n",
            "           2       0.68      0.81      0.74       308\n",
            "\n",
            "    accuracy                           0.69       816\n",
            "   macro avg       0.67      0.66      0.67       816\n",
            "weighted avg       0.69      0.69      0.69       816\n",
            "\n"
          ]
        }
      ]
    },
    {
      "cell_type": "code",
      "metadata": {
        "id": "DvnvttKpPT_f"
      },
      "source": [
        "from sklearn.feature_extraction.text import TfidfVectorizer\n",
        "\n",
        "tfidf_vectorizer = TfidfVectorizer(tokenizer=lambda x: x, preprocessor=lambda x: x)\n",
        "X_train, X_test, y_train, y_test = train_test_split(corpus, scores, test_size=0.33, random_state=42)\n",
        "\n",
        "#Обучаем векторизатор только на обучающей выборке, затем используем получемнные idf для трансформации тестовой\n",
        "X_train = tfidf_vectorizer.fit_transform(X_train)\n",
        "X_test = tfidf_vectorizer.transform(X_test)"
      ],
      "execution_count": 94,
      "outputs": []
    },
    {
      "cell_type": "code",
      "metadata": {
        "colab": {
          "base_uri": "https://localhost:8080/"
        },
        "id": "8CMUyTqnPTk3",
        "outputId": "acc52878-b3b3-4513-9721-aedce8643036"
      },
      "source": [
        "sgd = SGDClassifier(loss='hinge', penalty='l2',alpha=1e-3, random_state=42, max_iter=5, tol=None)\n",
        "sgd.fit(X_train, y_train)\n",
        "y_pred = sgd.predict(X_test)\n",
        "\n",
        "print('accuracy %s' % accuracy_score(y_pred, y_test))\n",
        "print(classification_report(y_test, y_pred))"
      ],
      "execution_count": 95,
      "outputs": [
        {
          "output_type": "stream",
          "name": "stdout",
          "text": [
            "accuracy 0.7377450980392157\n",
            "              precision    recall  f1-score   support\n",
            "\n",
            "           0       0.74      0.87      0.80       308\n",
            "           1       0.70      0.37      0.48       200\n",
            "           2       0.75      0.84      0.79       308\n",
            "\n",
            "    accuracy                           0.74       816\n",
            "   macro avg       0.73      0.69      0.69       816\n",
            "weighted avg       0.73      0.74      0.72       816\n",
            "\n"
          ]
        }
      ]
    },
    {
      "cell_type": "markdown",
      "metadata": {
        "id": "NGmg76VAQdRM"
      },
      "source": [
        "Ура, тут получились резульаты получше :)"
      ]
    }
  ]
}
