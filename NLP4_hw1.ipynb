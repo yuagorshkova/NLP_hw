{
  "nbformat": 4,
  "nbformat_minor": 0,
  "metadata": {
    "colab": {
      "provenance": []
    },
    "kernelspec": {
      "name": "python3",
      "display_name": "Python 3"
    },
    "language_info": {
      "name": "python"
    }
  },
  "cells": [
    {
      "cell_type": "code",
      "execution_count": 40,
      "metadata": {
        "colab": {
          "base_uri": "https://localhost:8080/"
        },
        "id": "UUNbmFeTHQkt",
        "outputId": "8ad48255-e013-4a20-c3ff-f4c00a152dbf"
      },
      "outputs": [
        {
          "output_type": "stream",
          "name": "stdout",
          "text": [
            "Looking in indexes: https://pypi.org/simple, https://us-python.pkg.dev/colab-wheels/public/simple/\n",
            "Requirement already satisfied: pymorphy2 in /usr/local/lib/python3.7/dist-packages (0.9.1)\n",
            "Requirement already satisfied: pymorphy2-dicts-ru<3.0,>=2.4 in /usr/local/lib/python3.7/dist-packages (from pymorphy2) (2.4.417127.4579844)\n",
            "Requirement already satisfied: dawg-python>=0.7.1 in /usr/local/lib/python3.7/dist-packages (from pymorphy2) (0.7.2)\n",
            "Requirement already satisfied: docopt>=0.6 in /usr/local/lib/python3.7/dist-packages (from pymorphy2) (0.6.2)\n",
            "Looking in indexes: https://pypi.org/simple, https://us-python.pkg.dev/colab-wheels/public/simple/\n",
            "Requirement already satisfied: pymorphy2-dicts in /usr/local/lib/python3.7/dist-packages (2.4.393442.3710985)\n",
            "Looking in indexes: https://pypi.org/simple, https://us-python.pkg.dev/colab-wheels/public/simple/\n",
            "Requirement already satisfied: DAWG-Python>=0.7 in /usr/local/lib/python3.7/dist-packages (0.7.2)\n"
          ]
        },
        {
          "output_type": "stream",
          "name": "stderr",
          "text": [
            "[nltk_data] Downloading package punkt to /root/nltk_data...\n",
            "[nltk_data]   Package punkt is already up-to-date!\n",
            "[nltk_data] Downloading package stopwords to /root/nltk_data...\n",
            "[nltk_data]   Package stopwords is already up-to-date!\n"
          ]
        }
      ],
      "source": [
        "!pip install pymorphy2\n",
        "!pip install pymorphy2-dicts\n",
        "!pip install 'DAWG-Python >= 0.7'\n",
        "\n",
        "import nltk\n",
        "nltk.download('punkt')\n",
        "from nltk.tokenize import word_tokenize, sent_tokenize\n",
        "\n",
        "nltk.download('stopwords')\n",
        "from nltk.corpus import stopwords\n",
        "stop_words = set(stopwords.words('russian'))\n",
        "\n",
        "import pymorphy2\n",
        "morph = pymorphy2.MorphAnalyzer()\n",
        "\n",
        "import requests\n",
        "import re\n",
        "\n",
        "import numpy as np\n",
        "import pandas as pd\n",
        "import matplotlib.pyplot as plt\n",
        "from bs4 import BeautifulSoup\n",
        "from tqdm import tqdm\n",
        "tqdm.pandas()"
      ]
    },
    {
      "cell_type": "markdown",
      "source": [
        "## 1) Парсим"
      ],
      "metadata": {
        "id": "_7O8hsMAJ6lS"
      }
    },
    {
      "cell_type": "markdown",
      "source": [
        "Парсить будем статьи с хабра, там есть теги и хабы, которые мы будем исопльзовтаь ключевые слова."
      ],
      "metadata": {
        "id": "DVug2wy7Lgzi"
      }
    },
    {
      "cell_type": "code",
      "source": [
        "def get_post(url):\n",
        "  response = requests.get(url)\n",
        "  soup = BeautifulSoup(response.text)\n",
        "  title = soup.find(\"meta\", property=\"og:title\")\n",
        "  title = str(title).split('=\"')[1].split('\" ')[0]\n",
        "\n",
        "  post = \"\\n\".join([title] + [el.text for el in soup.find(\"div\", id=\"post-content-body\").find_all(\"p\")])\n",
        "  keywords = [el.text for el in soup.find_all(\"li\", {\"class\": \"tm-separated-list__item\"})]\n",
        "\n",
        "  return post, keywords"
      ],
      "metadata": {
        "id": "s2Y5UpiyK9SA"
      },
      "execution_count": 20,
      "outputs": []
    },
    {
      "cell_type": "code",
      "source": [
        "def get_post_len_in_tokens(post):\n",
        "  return len([item for item in word_tokenize(post) if len(item) > 1 and item.isalpha()])\n",
        "\n",
        "get_post_len_in_tokens(get_post(\"https://habr.com/ru/post/700290/\")[0])"
      ],
      "metadata": {
        "colab": {
          "base_uri": "https://localhost:8080/"
        },
        "id": "qtn-GRiHScF5",
        "outputId": "83b06997-3f6c-483f-bd78-e0dd476d22f9"
      },
      "execution_count": 21,
      "outputs": [
        {
          "output_type": "execute_result",
          "data": {
            "text/plain": [
              "1527"
            ]
          },
          "metadata": {},
          "execution_count": 21
        }
      ]
    },
    {
      "cell_type": "code",
      "source": [
        "#посты довольно длинные, так что соберем ссылки на них вручную\n",
        "\n",
        "urls = [\"https://habr.com/ru/post/700290/\", \n",
        "         \"https://habr.com/ru/company/vk/blog/699852/\", \n",
        "         \"https://habr.com/ru/company/sberbank/blog/700266/\", \n",
        "         \"https://habr.com/ru/company/oleg-bunin/blog/699892/\", \n",
        "         \"https://habr.com/ru/company/surfstudio/blog/700018/\"]\n",
        "\n",
        "data = []\n",
        "labels = []\n",
        "corpus_token_len = 0\n",
        "\n",
        "for url in urls:\n",
        "  post, keywords = get_post(url)\n",
        "  data.append(post)\n",
        "  labels.append(keywords)\n",
        "  corpus_token_len += get_post_len_in_tokens(post)\n",
        "\n",
        "print(f\"Количество текстов: {len(data)}, количество токенов: {corpus_token_len}\")"
      ],
      "metadata": {
        "colab": {
          "base_uri": "https://localhost:8080/"
        },
        "id": "6hnAt1YcMWPj",
        "outputId": "19ef0fef-8e11-410b-dbee-4dc176929181"
      },
      "execution_count": 22,
      "outputs": [
        {
          "output_type": "stream",
          "name": "stdout",
          "text": [
            "Количество текстов: 5, количество токенов: 8952\n"
          ]
        }
      ]
    },
    {
      "cell_type": "markdown",
      "source": [
        "## 2) Эталон"
      ],
      "metadata": {
        "id": "T33fTtUBJ7QB"
      }
    },
    {
      "cell_type": "code",
      "source": [
        "handpicked_keywords = [\"data scientist,резюме,summary,опыт,написать summary\".split(\",\"),\n",
        "                       \"перевод,язык,интерфейс,интернационализация,трудность\".split(\",\"),\n",
        "                       \"day offer,java,разработчик,кандидат,собеседование,день\".split(\",\"),\n",
        "                       \"devops,конференция,доклад\".split(\",\"),\n",
        "                       \"команда,аналитик,команда аналитик,лид\".split(\",\"),\n",
        "]\n",
        "#так как собиралось вручную, я сразу писала все в нормальной форме и ловеркейсом"
      ],
      "metadata": {
        "id": "HKtW5rUvKEht"
      },
      "execution_count": 5,
      "outputs": []
    },
    {
      "cell_type": "code",
      "source": [
        "def normal_form(word, parser=morph):\n",
        "  return parser.parse(word)[0].normal_form\n",
        "\n",
        "def normalize_sent(sent):\n",
        "  return ' '.join([normal_form(w) for w in word_tokenize(sent.lower()) if w.isalpha() and not w in stop_words])\n",
        "\n",
        "def normalize_list(l):\n",
        "  res = [normalize_sent(text) for text in l]\n",
        "  return [text for text in res if text]\n",
        "\n",
        "handpicked_keywords = [normalize_list(l) for l in handpicked_keywords]\n",
        "handpicked_keywords\n",
        "#проверила себя -- все почти так"
      ],
      "metadata": {
        "colab": {
          "base_uri": "https://localhost:8080/"
        },
        "id": "-v2O3xcOWgyU",
        "outputId": "d818ac48-4696-48bd-8d5c-f1f36a67cf2a"
      },
      "execution_count": 9,
      "outputs": [
        {
          "output_type": "execute_result",
          "data": {
            "text/plain": [
              "[['data scientist', 'резюме', 'summary', 'опыт', 'написать summary'],\n",
              " ['перевод', 'язык', 'интерфейс', 'интернационализация', 'трудность'],\n",
              " ['day offer', 'java', 'разработчик', 'кандидат', 'собеседование', 'день'],\n",
              " ['devops', 'конференция', 'доклад'],\n",
              " ['команда', 'аналитик', 'команда аналитик', 'лида']]"
            ]
          },
          "metadata": {},
          "execution_count": 9
        }
      ]
    },
    {
      "cell_type": "code",
      "source": [
        "labels = [normalize_list(l) for l in labels]\n",
        "labels"
      ],
      "metadata": {
        "colab": {
          "base_uri": "https://localhost:8080/"
        },
        "id": "XD-JokWbWez5",
        "outputId": "a554b65b-ec29-44a7-94a2-fc41006e950f"
      },
      "execution_count": 10,
      "outputs": [
        {
          "output_type": "execute_result",
          "data": {
            "text/plain": [
              "[['summary',\n",
              "  'resume',\n",
              "  'cv',\n",
              "  'career consulting',\n",
              "  'data scientist career',\n",
              "  'ml career',\n",
              "  'ml',\n",
              "  'dl',\n",
              "  'управление персонал'],\n",
              " ['javascript',\n",
              "  'фронтенд',\n",
              "  'frontend',\n",
              "  'интерфейс',\n",
              "  'интернационализация',\n",
              "  'блог компания vk',\n",
              "  'javascript',\n",
              "  'интерфейс',\n",
              "  'локализация продукт'],\n",
              " ['управление персонал',\n",
              "  'конференция',\n",
              "  'карьера',\n",
              "  'карьера it',\n",
              "  'блог компания сбер',\n",
              "  'управление персонал',\n",
              "  'карьера',\n",
              "  'конференция'],\n",
              " ['devopsconf',\n",
              "  'devops',\n",
              "  'sre',\n",
              "  'techleads',\n",
              "  'управление знание',\n",
              "  'наём it',\n",
              "  'gitops',\n",
              "  'kubernetes',\n",
              "  'сообщество',\n",
              "  'выступление спикер',\n",
              "  'блог компания конференция олег бунин онтико',\n",
              "  'конференция',\n",
              "  'devops'],\n",
              " ['surf',\n",
              "  'surfstudio',\n",
              "  'аналитика',\n",
              "  'работа команда',\n",
              "  'совет',\n",
              "  'опыт',\n",
              "  'разработка мобильный приложение',\n",
              "  'блог компания surf',\n",
              "  'анализ проектирование система',\n",
              "  'аналитика мобильный приложение']]"
            ]
          },
          "metadata": {},
          "execution_count": 10
        }
      ]
    },
    {
      "cell_type": "code",
      "source": [
        "def get_stats(l1, l2):\n",
        "  s1, s2 = set(l1), set(l2)\n",
        "  return [len(s1 - s2), len(s1 & s2), len(s2 - s1)]\n",
        "\n",
        "all_stats = []\n",
        "for l1, l2 in zip(handpicked_keywords, labels):\n",
        "  all_stats.append(get_stats(l1, l2))\n",
        "all_stats = np.array(all_stats)\n",
        "mh = all_stats[:, 0]\n",
        "b = all_stats[:, 1]\n",
        "hm = all_stats[:, 2]\n",
        "\n",
        "width = 0.35\n",
        "fig, ax = plt.subplots()\n",
        "\n",
        "xlables = np.arange(len(data))\n",
        "ax.bar(xlables, mh, width, label=\"manual - habr\")\n",
        "ax.bar(xlables, b, width, bottom=mh, label=\"both\")\n",
        "ax.bar(xlables, hm, width, bottom=mh+b, label=\"habr - manual\")\n",
        "\n",
        "ax.set_ylabel(\"num keywords\")\n",
        "ax.legend()\n",
        "\n",
        "plt.show()\n",
        "#будем объединять разметки: в моей больше слов, в автоматической больше фраз"
      ],
      "metadata": {
        "colab": {
          "base_uri": "https://localhost:8080/",
          "height": 265
        },
        "id": "0otItggZZIIG",
        "outputId": "6f32d004-e386-4b09-f30c-0f09ce68dd5f"
      },
      "execution_count": 11,
      "outputs": [
        {
          "output_type": "display_data",
          "data": {
            "text/plain": [
              "<Figure size 432x288 with 1 Axes>"
            ],
            "image/png": "[encoded data removed]"
          },
          "metadata": {
            "needs_background": "light"
          }
        }
      ]
    },
    {
      "cell_type": "code",
      "source": [
        "true_labels = [list(set(l1) | set(l2)) for l1, l2 in zip(handpicked_keywords, labels)]\n",
        "true_labels[0]"
      ],
      "metadata": {
        "colab": {
          "base_uri": "https://localhost:8080/"
        },
        "id": "UqImlvq6guWb",
        "outputId": "e21b4a5d-5e20-4f96-bd26-169c6adee37c"
      },
      "execution_count": 13,
      "outputs": [
        {
          "output_type": "execute_result",
          "data": {
            "text/plain": [
              "['опыт',\n",
              " 'data scientist',\n",
              " 'резюме',\n",
              " 'data scientist career',\n",
              " 'summary',\n",
              " 'dl',\n",
              " 'resume',\n",
              " 'ml career',\n",
              " 'career consulting',\n",
              " 'cv',\n",
              " 'управление персонал',\n",
              " 'написать summary',\n",
              " 'ml']"
            ]
          },
          "metadata": {},
          "execution_count": 13
        }
      ]
    },
    {
      "cell_type": "markdown",
      "source": [
        "Заодно стоит обработать корпус"
      ],
      "metadata": {
        "id": "hnfAVJpcieME"
      }
    },
    {
      "cell_type": "code",
      "source": [
        "def norm_w_punct(text):\n",
        "  sents = sent_tokenize(text)\n",
        "  sents = [normalize_sent(s) for s in sents]\n",
        "  return \". \".join(sents)\n",
        "\n",
        "norm_data_w_punctuation = [norm_w_punct(text) for text in data]\n",
        "norm_data_w_punctuation[0][:100]"
      ],
      "metadata": {
        "colab": {
          "base_uri": "https://localhost:8080/",
          "height": 37
        },
        "id": "Dw1VZt9alBNN",
        "outputId": "ae69bcbe-a2b1-4360-dac7-9b31da9be558"
      },
      "execution_count": 41,
      "outputs": [
        {
          "output_type": "execute_result",
          "data": {
            "text/plain": [
              "'summary резюме data scientist автор анна перов. мгу факультет психология магистр. опыт ит рекрутмент'"
            ],
            "application/vnd.google.colaboratory.intrinsic+json": {
              "type": "string"
            }
          },
          "metadata": {},
          "execution_count": 41
        }
      ]
    },
    {
      "cell_type": "code",
      "source": [
        "norm_data = normalize_list(data)"
      ],
      "metadata": {
        "id": "WUZdeEx-ipIa"
      },
      "execution_count": 42,
      "outputs": []
    },
    {
      "cell_type": "markdown",
      "source": [
        "## 3 + 5) Эксперименты, оценка"
      ],
      "metadata": {
        "id": "EhkplFAJKEYH"
      }
    },
    {
      "cell_type": "code",
      "source": [
        "from nltk.metrics import precision, recall\n",
        "\n",
        "def get_metrics(l_of_l_true, l_of_l_pred):\n",
        "  all_p, all_r, all_f1 = [], [], []\n",
        "  for true, pred in zip(l_of_l_true, l_of_l_pred):\n",
        "    y_true, y_pred = set(true), set(pred)\n",
        "    p = precision(y_true, y_pred)\n",
        "    r = recall(y_true, y_pred)\n",
        "    f1 = 2 * (p * r) / (p + r) if p+r>0 else 0\n",
        "\n",
        "    all_p.append(p)\n",
        "    all_r.append(r)\n",
        "    all_f1.append(f1)\n",
        "  return all_p, all_r, all_f1\n",
        "\n",
        "def visualise_metrics(l_of_l_true, l_of_l_pred):\n",
        "  res_metrics = get_metrics(l_of_l_true, l_of_l_pred)\n",
        "  print(f\"Mean precision: {np.mean(res_metrics[0])}\")\n",
        "  print(f\"Mean recall: {np.mean(res_metrics[1])}\")\n",
        "  print(f\"Mean f1 score: {np.mean(res_metrics[0])}\")\n",
        "\n",
        "  metrics = [\"precision\", \"recall\", \"f1_score\"]\n",
        "  n_docs = len(l_of_l_true)\n",
        "  fig, axs = plt.subplots(nrows=1, ncols=3, figsize=(12,4))\n",
        "  \n",
        "  for ax, metric, title in zip(axs.flatten(), res_metrics, metrics):\n",
        "    ax.bar(np.arange(n_docs), metric)\n",
        "    ax.set_title(title)\n",
        "  plt.show()"
      ],
      "metadata": {
        "id": "-GbdsDm9mUl8"
      },
      "execution_count": 71,
      "outputs": []
    },
    {
      "cell_type": "markdown",
      "source": [
        "### Rake"
      ],
      "metadata": {
        "id": "w_vtO-UmiMHi"
      }
    },
    {
      "cell_type": "code",
      "source": [
        "!pip3 install python-rake\n",
        "import RAKE\n",
        "\n",
        "rake = RAKE.Rake(list(stop_words))"
      ],
      "metadata": {
        "colab": {
          "base_uri": "https://localhost:8080/"
        },
        "id": "pvNkMwMUiL9l",
        "outputId": "e06b4577-6443-4b23-aecb-2718d19d1e32"
      },
      "execution_count": 44,
      "outputs": [
        {
          "output_type": "stream",
          "name": "stdout",
          "text": [
            "Looking in indexes: https://pypi.org/simple, https://us-python.pkg.dev/colab-wheels/public/simple/\n",
            "Requirement already satisfied: python-rake in /usr/local/lib/python3.7/dist-packages (1.5.0)\n"
          ]
        }
      ]
    },
    {
      "cell_type": "code",
      "source": [
        "rake_pred = [[kw for kw, _ in rake.run(text, maxWords=3)] for text in norm_data_w_punctuation]\n",
        "rake_pred[0]"
      ],
      "metadata": {
        "colab": {
          "base_uri": "https://localhost:8080/"
        },
        "id": "r2K_VvJ0iL7V",
        "outputId": "41b7ee88-03cc-4f16-88a1-8b7692835565"
      },
      "execution_count": 66,
      "outputs": [
        {
          "output_type": "execute_result",
          "data": {
            "text/plain": [
              "['понимание ваш опыт',\n",
              " 'experience yandex google',\n",
              " 'стоить позвать интервью',\n",
              " 'это верно резюме',\n",
              " 'вообще нужно summary',\n",
              " 'summary резюме',\n",
              " 'почему именно',\n",
              " 'хобби достижение',\n",
              " 'пример основать',\n",
              " 'попросить оценить',\n",
              " 'знать уметь',\n",
              " 'например полезно',\n",
              " 'область эксперт',\n",
              " 'нужно',\n",
              " 'область',\n",
              " 'многие',\n",
              " 'кандидат']"
            ]
          },
          "metadata": {},
          "execution_count": 66
        }
      ]
    },
    {
      "cell_type": "code",
      "source": [
        "visualise_metrics(true_labels, rake_pred)"
      ],
      "metadata": {
        "colab": {
          "base_uri": "https://localhost:8080/",
          "height": 332
        },
        "id": "DrzqGTi4mTpw",
        "outputId": "ab2fe128-19fa-463e-9c4e-7ac4cfffd338"
      },
      "execution_count": 72,
      "outputs": [
        {
          "output_type": "stream",
          "name": "stdout",
          "text": [
            "Mean precision: 0.022844291580013866\n",
            "Mean recall: 0.08785214785214786\n",
            "Mean f1 score: 0.022844291580013866\n"
          ]
        },
        {
          "output_type": "display_data",
          "data": {
            "text/plain": [
              "<Figure size 864x288 with 3 Axes>"
            ],
            "image/png": "[encoded data removed]"
          },
          "metadata": {
            "needs_background": "light"
          }
        }
      ]
    },
    {
      "cell_type": "markdown",
      "source": [
        "### Tf-idf"
      ],
      "metadata": {
        "id": "ZcSQuAz_iLxq"
      }
    },
    {
      "cell_type": "markdown",
      "source": [
        "!!  Как 6 пункт дз\n",
        "* сразу ошибка и решение: тут не получатся высокие метрики, потому что выделяем только униграммы; можно было бы добавить би- и три-граммы и повысить качество\n",
        "* и еще -- это очень маленький корпус для того чтобы сделать хороший тфидф\n",
        "\n"
      ],
      "metadata": {
        "id": "c5wsGgltuHA8"
      }
    },
    {
      "cell_type": "code",
      "source": [
        "np.argsort([[1,3,2], \n",
        "            [3,1,2]], axis=1)[:,:-3:-1]"
      ],
      "metadata": {
        "colab": {
          "base_uri": "https://localhost:8080/"
        },
        "id": "BVYG2xImtKuj",
        "outputId": "b2840aba-1cdd-43dd-df3a-ff3f81dd8234"
      },
      "execution_count": 79,
      "outputs": [
        {
          "output_type": "execute_result",
          "data": {
            "text/plain": [
              "array([[1, 2],\n",
              "       [0, 2]])"
            ]
          },
          "metadata": {},
          "execution_count": 79
        }
      ]
    },
    {
      "cell_type": "code",
      "source": [
        "from sklearn.feature_extraction.text import TfidfVectorizer\n",
        "\n",
        "v = TfidfVectorizer()\n",
        "tfidf_data = v.fit_transform(norm_data)\n",
        "vocab = list(v.vocabulary_.keys())\n",
        "\n",
        "def get_top_n(tfidf_data, n):\n",
        "  return np.argsort(tfidf_data.toarray())[:, : -n - 1 : -1]\n",
        "\n",
        "kw_indices = get_top_n(tfidf_data, 100)\n",
        "tfidf_pred = [[vocab[wi] for wi in row ] for row in kw_indices]\n",
        "tfidf_pred[0][:10]"
      ],
      "metadata": {
        "colab": {
          "base_uri": "https://localhost:8080/"
        },
        "id": "4YTxu5GaiLjn",
        "outputId": "36b80c3a-2b9a-4cdc-ddbd-d485c421da3c"
      },
      "execution_count": 102,
      "outputs": [
        {
          "output_type": "execute_result",
          "data": {
            "text/plain": [
              "['диплом',\n",
              " 'вовлекать',\n",
              " 'клиентский',\n",
              " 'запоминание',\n",
              " 'текст',\n",
              " 'идти',\n",
              " 'россия',\n",
              " 'повышаться',\n",
              " 'in',\n",
              " 'читать']"
            ]
          },
          "metadata": {},
          "execution_count": 102
        }
      ]
    },
    {
      "cell_type": "code",
      "source": [
        "visualise_metrics(true_labels, tfidf_pred)\n",
        "#и это при довольно большом n"
      ],
      "metadata": {
        "colab": {
          "base_uri": "https://localhost:8080/",
          "height": 332
        },
        "id": "6eFtdsFciLhV",
        "outputId": "931b6de6-d5c2-49f7-d26e-e8fe3cf1a30e"
      },
      "execution_count": 97,
      "outputs": [
        {
          "output_type": "stream",
          "name": "stdout",
          "text": [
            "Mean precision: 0.01\n",
            "Mean recall: 0.08433566433566435\n",
            "Mean f1 score: 0.01\n"
          ]
        },
        {
          "output_type": "display_data",
          "data": {
            "text/plain": [
              "<Figure size 864x288 with 3 Axes>"
            ],
            "image/png": "[encoded data removed]"
          },
          "metadata": {
            "needs_background": "light"
          }
        }
      ]
    },
    {
      "cell_type": "markdown",
      "source": [
        "### TextRank"
      ],
      "metadata": {
        "id": "CsbsgHByiK7h"
      }
    },
    {
      "cell_type": "code",
      "source": [
        "!pip3 install summa\n",
        "from summa import keywords"
      ],
      "metadata": {
        "id": "VNHOfujlKEMp",
        "colab": {
          "base_uri": "https://localhost:8080/"
        },
        "outputId": "86a12aac-4138-47fa-e330-17a8c777ddef"
      },
      "execution_count": 98,
      "outputs": [
        {
          "output_type": "stream",
          "name": "stdout",
          "text": [
            "Looking in indexes: https://pypi.org/simple, https://us-python.pkg.dev/colab-wheels/public/simple/\n",
            "Collecting summa\n",
            "  Downloading summa-1.2.0.tar.gz (54 kB)\n",
            "\u001b[K     |████████████████████████████████| 54 kB 2.0 MB/s \n",
            "\u001b[?25hRequirement already satisfied: scipy>=0.19 in /usr/local/lib/python3.7/dist-packages (from summa) (1.7.3)\n",
            "Requirement already satisfied: numpy<1.23.0,>=1.16.5 in /usr/local/lib/python3.7/dist-packages (from scipy>=0.19->summa) (1.21.6)\n",
            "Building wheels for collected packages: summa\n",
            "  Building wheel for summa (setup.py) ... \u001b[?25l\u001b[?25hdone\n",
            "  Created wheel for summa: filename=summa-1.2.0-py3-none-any.whl size=54410 sha256=cff0dc1542f30722358324af22a648fd65975f2f47ed98660e3fa734f59a2210\n",
            "  Stored in directory: /root/.cache/pip/wheels/29/64/ac/7b443477588d365ef37ada30d456bdf5f07dc5be9f6324cb6e\n",
            "Successfully built summa\n",
            "Installing collected packages: summa\n",
            "Successfully installed summa-1.2.0\n"
          ]
        }
      ]
    },
    {
      "cell_type": "code",
      "source": [
        "textrank_pred = [keywords.keywords(text, language='russian', scores=False).split(\"\\n\") for text in norm_data_w_punctuation]\n",
        "textrank_pred[0][:10]"
      ],
      "metadata": {
        "id": "MlvgeAfXKEKZ",
        "colab": {
          "base_uri": "https://localhost:8080/"
        },
        "outputId": "89b7892e-be5f-464c-c967-98fe1fa9894c"
      },
      "execution_count": 101,
      "outputs": [
        {
          "output_type": "execute_result",
          "data": {
            "text/plain": [
              "['summary резюме data',\n",
              " 'который',\n",
              " 'компания',\n",
              " 'ваш',\n",
              " 'опыт ит',\n",
              " 'это',\n",
              " 'пример',\n",
              " 'например указать',\n",
              " 'проект',\n",
              " 'работа']"
            ]
          },
          "metadata": {},
          "execution_count": 101
        }
      ]
    },
    {
      "cell_type": "code",
      "source": [
        "visualise_metrics(true_labels, textrank_pred)\n",
        "#кажется в ключевых словах рекол важнее, так что это мне нравится"
      ],
      "metadata": {
        "colab": {
          "base_uri": "https://localhost:8080/",
          "height": 332
        },
        "id": "T0GIQvuOwgev",
        "outputId": "95a4dd13-08a6-40d6-c5c5-e3290c45e16c"
      },
      "execution_count": 103,
      "outputs": [
        {
          "output_type": "stream",
          "name": "stdout",
          "text": [
            "Mean precision: 0.014130237691650088\n",
            "Mean recall: 0.1318081918081918\n",
            "Mean f1 score: 0.014130237691650088\n"
          ]
        },
        {
          "output_type": "display_data",
          "data": {
            "text/plain": [
              "<Figure size 864x288 with 3 Axes>"
            ],
            "image/png": "[encoded data removed]"
          },
          "metadata": {
            "needs_background": "light"
          }
        }
      ]
    },
    {
      "cell_type": "markdown",
      "source": [
        "## 4 + 5) шаблоны, оценка"
      ],
      "metadata": {
        "id": "KYD9kE-zKEDq"
      }
    },
    {
      "cell_type": "markdown",
      "source": [
        "### Подготовка"
      ],
      "metadata": {
        "id": "o5txiMt06l6_"
      }
    },
    {
      "cell_type": "code",
      "source": [
        "# проанализируем по кв что нам нужно\n",
        "key_phrases = []\n",
        "for doc in true_labels:\n",
        "  for item in doc:\n",
        "    if len(item.split()) > 1:\n",
        "      key_phrases.append(item)\n",
        "key_phrases"
      ],
      "metadata": {
        "id": "0O7fUfu7KD3g",
        "colab": {
          "base_uri": "https://localhost:8080/"
        },
        "outputId": "ee0940fb-29fa-45db-c54c-6a6f280e35cd"
      },
      "execution_count": 104,
      "outputs": [
        {
          "output_type": "execute_result",
          "data": {
            "text/plain": [
              "['data scientist',\n",
              " 'data scientist career',\n",
              " 'ml career',\n",
              " 'career consulting',\n",
              " 'управление персонал',\n",
              " 'написать summary',\n",
              " 'блог компания vk',\n",
              " 'локализация продукт',\n",
              " 'блог компания сбер',\n",
              " 'day offer',\n",
              " 'управление персонал',\n",
              " 'карьера it',\n",
              " 'управление знание',\n",
              " 'выступление спикер',\n",
              " 'блог компания конференция олег бунин онтико',\n",
              " 'наём it',\n",
              " 'аналитика мобильный приложение',\n",
              " 'анализ проектирование система',\n",
              " 'команда аналитик',\n",
              " 'работа команда',\n",
              " 'блог компания surf',\n",
              " 'разработка мобильный приложение']"
            ]
          },
          "metadata": {},
          "execution_count": 104
        }
      ]
    },
    {
      "cell_type": "markdown",
      "source": [
        "К сожалению у нас тут одни сущ+сущ; !! можно и нужно для точности посмотреть на [сущ + сущ_Род_п], но я не успеваю\n",
        "\n",
        "Еще много словосочетаний [рус + англ] и [англ + англ], что характерно для тество в IT. Проверим их (и сущ+сущ).\n",
        "\n",
        "Для упрощения работы рассмотрим только биграммы.\n"
      ],
      "metadata": {
        "id": "8SiXu15ixUk3"
      }
    },
    {
      "cell_type": "code",
      "source": [
        "def is_latin(text):\n",
        "  return bool(re.fullmatch(r\"[a-z]*\", text))\n",
        "\n",
        "def is_noun(word, morph=morph):\n",
        "  parse = morph.parse(word)[0].tag\n",
        "  return \"NOUN\" in parse\n",
        "\n",
        "def eng_eng(w1, w2):\n",
        "  return is_latin(w1) and is_latin(w2)\n",
        "\n",
        "#работает так как мы прогоним это на данных где только альфа-строки\n",
        "def rus_eng(w1, w2):\n",
        "  return (not is_latin(w1)) and is_latin(w2)\n",
        "\n",
        "def noun_noun(w1, w2):\n",
        "  return is_noun(w1) and is_noun(w2)\n",
        "\n",
        "def pattern_match(w1, w2):\n",
        "  return eng_eng(w1, w2) or rus_eng(w1, w2) or noun_noun(w1, w2)\n",
        "\n",
        "def get_patterns_from_text(norm_text):\n",
        "  tokens = norm_text.split()\n",
        "  new_tokens = []\n",
        "  for i in range(len(tokens) - 1):\n",
        "    if pattern_match(tokens[i], tokens[i+1]):\n",
        "      new_tokens.append(\" \".join([tokens[i], tokens[i+1]]))\n",
        "  return new_tokens\n",
        "\n",
        "def get_patterns_in_sents(norm_text_w_punct):\n",
        "  sents = sent_tokenize(norm_text_w_punct)\n",
        "  new_sents = []\n",
        "  for s in sents:\n",
        "    sent_tokens = get_patterns_from_text(s)\n",
        "    new_sent = re.sub(r\"\\b(\\w+)\\s+\\1\\b\", r\"\\1\", \" \".join(sent_tokens)) #убираем дубликаты если у нас последовательность\n",
        "    new_sents.append(new_sent)\n",
        "  return \". \".join(new_sents)\n",
        "\n",
        "patterns_data = [get_patterns_from_text(text) for text in norm_data]\n",
        "patterns_data_w_punct = [get_patterns_in_sents(text) for text in norm_data_w_punctuation]"
      ],
      "metadata": {
        "id": "o2zkCvqPKD1O"
      },
      "execution_count": 163,
      "outputs": []
    },
    {
      "cell_type": "markdown",
      "source": [
        "#### data"
      ],
      "metadata": {
        "id": "Fy6nKzce7zNj"
      }
    },
    {
      "cell_type": "code",
      "source": [
        "norm_data_w_punctuation[0][:200]"
      ],
      "metadata": {
        "colab": {
          "base_uri": "https://localhost:8080/",
          "height": 54
        },
        "id": "tSczRwJT2hOk",
        "outputId": "5778fdc4-cfa5-429d-83fb-792f1c77e5a5"
      },
      "execution_count": 164,
      "outputs": [
        {
          "output_type": "execute_result",
          "data": {
            "text/plain": [
              "'summary резюме data scientist автор анна перов. мгу факультет психология магистр. опыт ит рекрутмент год samsung ai center huawei. заниматься наём технический специалист samsung ai center нанять huawe'"
            ],
            "application/vnd.google.colaboratory.intrinsic+json": {
              "type": "string"
            }
          },
          "metadata": {},
          "execution_count": 164
        }
      ]
    },
    {
      "cell_type": "code",
      "source": [
        "patterns_data_w_punct[0]"
      ],
      "metadata": {
        "colab": {
          "base_uri": "https://localhost:8080/",
          "height": 140
        },
        "id": "_FOKQeGo5FpD",
        "outputId": "8d2e8a71-6279-4b20-a2ef-f5e383793352"
      },
      "execution_count": 165,
      "outputs": [
        {
          "output_type": "execute_result",
          "data": {
            "text/plain": [
              "'резюме data scientist автор анна. мгу факультет психология. опыт ит рекрутмент год samsung ai center. специалист samsung ai center нанять huawei ряд команда специалист лидер. год специалист лидер область data science ml dl cv nlp. основатель science tech and ai community ladies in tech and ai community. друг клиент компания faang maang европа азия. клиент обновление резюме развитие карьера сфера ит data science. статья пример успешный summary data scientist шаблон summary резюме шаблон клиент друг стартап россия европа сша компания maang получить job offer amazon google компания инструкция написать summary резюме ответ вопрос summary такой summary. блок резюме. . опыт работа. откликаться summary summary ряд задача ситуация рынок труд поиск работа remote c цель relocation summary роль начало коммуникация обсуждение job. . работа рекрутер компания summary помочь hr лидер команда знание опыт работа уровень зарплата job. образ summary отклик количество отклик фокус. именно summary ответ вопрос. . . часто summary. соревнование kaggle стать kaggle master защитить phd публикация конференция icml cvpr eccv. job offer материал summary материал summary рассказ интервью рекрутер знакомство ваш cover letter общение работодатель требование summary текст строка. строка проект область. писать summary стиль лицо. информация образование университет уровень образование masters bachelor degree phd диплом phd писать phd in process years of education plan to continue in. проговаривать hr информация опыт обучение аспирантура курс coursera начало карьера смена сфера опыт рамка курс. опыт ит программирование data science. . должность проект область деятельность технология. год опыт ит целое опыт работа год опыт программирование работодатель язык например python год опыт иметь team leaders развитие область опыт управление. количество год количество специалист. . опыт управление команда опыт. карьера карьера ai research количество публикация индекс цитирование это summary проект технология результат область включить summary. профессия спецкурс технология блокчейн. хобби мочь профессия мочь достижение. хобби достижение знание талант сила воля. культура компания образ жизнь вид спорт вода пример summary классный summary data scientist версия summary msu graduate with honors. has years of programming experience years data science research experience years of team leadership of research team. experience yandex. finished ml research. has publications hirsh. has publication at cvpr on automl for face. пример summary data scientist полезный summary интервью стартап случай резюме страница summary информация hse graduate master of science in. has years of programming experience years data science research experience years of team leadership of research team. experience yandex vk. finished ml research. has publications hirsh. has publication at eccv on rl for face. projects in ml face recognition face detection diabets prediction hand gesture recognition brain mri analysis image and video processing nlp words detection image recognition nlp etc technical skills ml dl gans gnn automl rl time series graphs methods computer vision recognition nlp processing nlp. core projects areas fintech bioinformatics medtech. написать summary изложение участие факт принятие решение кандидат работа команда компания написание summary версия профиль аккаунт linkedin основа пример. важный hr специалист оценка резюме кандидат определение соответствие резюме. msu graduate with honors. has years of programming experience years data science research experience years of team leadership of research team. experience google facebook finished ml research. has publications hirsh. has publication at cvpr on automl for face. with tech details mipt graduate. years of team leadership of research team ppl years of programming experience years data science research. experience amazon facebook finished ml research. has publications hirsh. has publication at icml nlp. ml projects nlp words detection image recognition nlp etc technical skills python pytorch ml dl rl nlp berts. core projects areas fintech telecom. написать summary соответствие пример требование знакомый hr. компания maang. рекрутер google. . экспертиза время. наличие отсутствие summary требование шаблон резюме. опыт общение друг клиент итог стартап компания такой maang meta amazon apple netflix google резюме описание деталь наличие summary переговоры job offer. хороший cover letter элемент summary консультирование оффера. хороший summary сover letter переговоры job offer. хороший summary инструмент начало взаимодействие компания экспертиза знание. . . . . грейд уровень зарплата. вопрос summary faq писать summary. проект количество название содержание проект роль проект технология результат интерес область. достижение награда победа соревнование. опыт работа. . кандидат год опыт компания опыт программирование школа. опыт программирование целое опыт ит знание навык опыт сторона работодатель стоить summary проект. опыт работа. пройти kaggle навык cv nlp gans соревнование google facebook представить github ссылка summary. помощь составление summary резюме консультация карьера вопрос связаться telegram telegram funcareer анна перов'"
            ],
            "application/vnd.google.colaboratory.intrinsic+json": {
              "type": "string"
            }
          },
          "metadata": {},
          "execution_count": 165
        }
      ]
    },
    {
      "cell_type": "code",
      "source": [
        "patterns_data[0][:10]"
      ],
      "metadata": {
        "colab": {
          "base_uri": "https://localhost:8080/"
        },
        "id": "5C6o7tFh2Rj0",
        "outputId": "a746d11b-9092-43f1-9562-28eaa7e2361c"
      },
      "execution_count": 166,
      "outputs": [
        {
          "output_type": "execute_result",
          "data": {
            "text/plain": [
              "['резюме data',\n",
              " 'data scientist',\n",
              " 'автор анна',\n",
              " 'анна перов',\n",
              " 'перов мгу',\n",
              " 'мгу факультет',\n",
              " 'факультет психология',\n",
              " 'психология магистр',\n",
              " 'магистр опыт',\n",
              " 'опыт ит']"
            ]
          },
          "metadata": {},
          "execution_count": 166
        }
      ]
    },
    {
      "cell_type": "markdown",
      "source": [
        "####  target"
      ],
      "metadata": {
        "id": "SxoWrRci7s_h"
      }
    },
    {
      "cell_type": "code",
      "source": [
        "for kp in key_phrases:\n",
        "  if len(kp.split()) == 2:\n",
        "    print(pattern_match(*kp.split()), kp, sep=\"\\t\")"
      ],
      "metadata": {
        "colab": {
          "base_uri": "https://localhost:8080/"
        },
        "id": "VmX1EyNO02Iq",
        "outputId": "6da65e12-3333-4e90-9130-a7cdb4db3573"
      },
      "execution_count": 167,
      "outputs": [
        {
          "output_type": "stream",
          "name": "stdout",
          "text": [
            "True\tdata scientist\n",
            "True\tml career\n",
            "True\tcareer consulting\n",
            "True\tуправление персонал\n",
            "True\tнаписать summary\n",
            "True\tлокализация продукт\n",
            "True\tday offer\n",
            "True\tуправление персонал\n",
            "True\tкарьера it\n",
            "True\tуправление знание\n",
            "True\tвыступление спикер\n",
            "True\tнаём it\n",
            "True\tкоманда аналитик\n",
            "True\tработа команда\n"
          ]
        }
      ]
    },
    {
      "cell_type": "code",
      "source": [
        "true_key_phrases = [[] for x in range(len(true_labels))]\n",
        "for i, doc in enumerate(true_labels):\n",
        "  for item in doc:\n",
        "    if len(item.split()) == 2 and pattern_match(*item.split()):\n",
        "      true_key_phrases[i].append(item)\n",
        "true_key_phrases"
      ],
      "metadata": {
        "colab": {
          "base_uri": "https://localhost:8080/"
        },
        "id": "vC3EjhJf6zi2",
        "outputId": "0d09157b-8aa1-4516-cb4d-add6fa735a8f"
      },
      "execution_count": 173,
      "outputs": [
        {
          "output_type": "stream",
          "name": "stdout",
          "text": [
            "[[], [], [], [], []]\n"
          ]
        },
        {
          "output_type": "execute_result",
          "data": {
            "text/plain": [
              "[['data scientist',\n",
              "  'ml career',\n",
              "  'career consulting',\n",
              "  'управление персонал',\n",
              "  'написать summary'],\n",
              " ['локализация продукт'],\n",
              " ['day offer', 'управление персонал', 'карьера it'],\n",
              " ['управление знание', 'выступление спикер', 'наём it'],\n",
              " ['команда аналитик', 'работа команда']]"
            ]
          },
          "metadata": {},
          "execution_count": 173
        }
      ]
    },
    {
      "cell_type": "markdown",
      "source": [
        "### Rake"
      ],
      "metadata": {
        "id": "4Mt4OZ1RKDnr"
      }
    },
    {
      "cell_type": "code",
      "source": [
        "rake_pred = [[kw for kw, _ in rake.run(text, maxWords=2)] for text in patterns_data_w_punct]\n",
        "rake_pred[0]"
      ],
      "metadata": {
        "id": "K1vd4VpRKCiI",
        "colab": {
          "base_uri": "https://localhost:8080/"
        },
        "outputId": "10dc4f38-8965-4c54-c9cc-faec24faf55d"
      },
      "execution_count": 174,
      "outputs": [
        {
          "output_type": "execute_result",
          "data": {
            "text/plain": [
              "['блок резюме',\n",
              " 'опыт работа',\n",
              " 'experience yandex',\n",
              " 'компания maang',\n",
              " 'рекрутер google',\n",
              " 'экспертиза время',\n",
              " 'часто summary',\n",
              " 'summary']"
            ]
          },
          "metadata": {},
          "execution_count": 174
        }
      ]
    },
    {
      "cell_type": "code",
      "source": [
        "visualise_metrics(true_key_phrases, rake_pred)\n",
        "#  по качеству лучше не стало, но мне нравится больше"
      ],
      "metadata": {
        "id": "opQgD_dJKC1Y",
        "colab": {
          "base_uri": "https://localhost:8080/",
          "height": 332
        },
        "outputId": "6d1415f3-9df5-433d-f302-a330ea60e192"
      },
      "execution_count": 175,
      "outputs": [
        {
          "output_type": "stream",
          "name": "stdout",
          "text": [
            "Mean precision: 0.008928571428571428\n",
            "Mean recall: 0.16666666666666666\n",
            "Mean f1 score: 0.008928571428571428\n"
          ]
        },
        {
          "output_type": "display_data",
          "data": {
            "text/plain": [
              "<Figure size 864x288 with 3 Axes>"
            ],
            "image/png": "[encoded data removed]"
          },
          "metadata": {
            "needs_background": "light"
          }
        }
      ]
    },
    {
      "cell_type": "markdown",
      "source": [
        "### Tf-idf"
      ],
      "metadata": {
        "id": "ODN_PpF96ZGc"
      }
    },
    {
      "cell_type": "code",
      "source": [
        "v = TfidfVectorizer(ngram_range = (2,2))\n",
        "tfidf_data = v.fit_transform(patterns_data_w_punct)\n",
        "vocab = list(v.vocabulary_.keys())\n",
        "\n",
        "def get_top_n(tfidf_data, n):\n",
        "  return np.argsort(tfidf_data.toarray())[:, : -n - 1 : -1]\n",
        "\n",
        "kw_indices = get_top_n(tfidf_data, 100)\n",
        "tfidf_pred = [[vocab[wi] for wi in row ] for row in kw_indices]\n",
        "tfidf_pred[0][:10]"
      ],
      "metadata": {
        "colab": {
          "base_uri": "https://localhost:8080/"
        },
        "id": "OCN1OHpF6Zro",
        "outputId": "c373bdb6-dd3e-4826-cbce-4bbf61f657b3"
      },
      "execution_count": 176,
      "outputs": [
        {
          "output_type": "execute_result",
          "data": {
            "text/plain": [
              "['компания написание',\n",
              " 'summary data',\n",
              " 'задача ситуация',\n",
              " 'год это',\n",
              " 'programming experience',\n",
              " 'год количество',\n",
              " 'of programming',\n",
              " 'has years',\n",
              " 'вид спорт',\n",
              " 'жизнь вид']"
            ]
          },
          "metadata": {},
          "execution_count": 176
        }
      ]
    },
    {
      "cell_type": "code",
      "source": [
        "visualise_metrics(true_key_phrases, tfidf_pred)"
      ],
      "metadata": {
        "colab": {
          "base_uri": "https://localhost:8080/",
          "height": 332
        },
        "id": "cyRThQPk6Yhr",
        "outputId": "8e483772-6331-41c0-a08e-58e602ca8cee"
      },
      "execution_count": 178,
      "outputs": [
        {
          "output_type": "stream",
          "name": "stdout",
          "text": [
            "Mean precision: 0.002\n",
            "Mean recall: 0.04\n",
            "Mean f1 score: 0.002\n"
          ]
        },
        {
          "output_type": "display_data",
          "data": {
            "text/plain": [
              "<Figure size 864x288 with 3 Axes>"
            ],
            "image/png": "[encoded data removed]"
          },
          "metadata": {
            "needs_background": "light"
          }
        }
      ]
    },
    {
      "cell_type": "markdown",
      "source": [
        "### Text Rank"
      ],
      "metadata": {
        "id": "FQ-IhTqD6aEg"
      }
    },
    {
      "cell_type": "code",
      "source": [
        "textrank_pred = [keywords.keywords(text, language='russian', scores=False).split(\"\\n\") for text in patterns_data_w_punct]\n",
        "textrank_pred[0][:10]"
      ],
      "metadata": {
        "colab": {
          "base_uri": "https://localhost:8080/"
        },
        "id": "lpSMCKMh6afM",
        "outputId": "1b2015e1-27f3-4778-f466-062f559b3f87"
      },
      "execution_count": 179,
      "outputs": [
        {
          "output_type": "execute_result",
          "data": {
            "text/plain": [
              "['summary',\n",
              " 'опыт ит',\n",
              " 'nlp',\n",
              " 'клиент компания',\n",
              " 'работа',\n",
              " 'область',\n",
              " 'in',\n",
              " 'резюме data scientist',\n",
              " 'пример',\n",
              " 'год']"
            ]
          },
          "metadata": {},
          "execution_count": 179
        }
      ]
    },
    {
      "cell_type": "code",
      "source": [
        "visualise_metrics(true_key_phrases, textrank_pred)\n",
        "#кажется в ключевых словах рекол важнее, так что это мне нравится"
      ],
      "metadata": {
        "colab": {
          "base_uri": "https://localhost:8080/",
          "height": 332
        },
        "id": "Qzztd8eP6a9h",
        "outputId": "fbdb6e5a-81b3-4dc0-e871-d90648cd8b5d"
      },
      "execution_count": 181,
      "outputs": [
        {
          "output_type": "stream",
          "name": "stdout",
          "text": [
            "Mean precision: 0.0058823529411764705\n",
            "Mean recall: 0.06666666666666667\n",
            "Mean f1 score: 0.0058823529411764705\n"
          ]
        },
        {
          "output_type": "display_data",
          "data": {
            "text/plain": [
              "<Figure size 864x288 with 3 Axes>"
            ],
            "image/png": "[encoded data removed]"
          },
          "metadata": {
            "needs_background": "light"
          }
        }
      ]
    },
    {
      "cell_type": "markdown",
      "source": [
        "## 6) Ошибки"
      ],
      "metadata": {
        "id": "Ks1HPoCmr7tP"
      }
    },
    {
      "cell_type": "markdown",
      "source": [
        "*   непонятно, как работать с иностранными словами. Отдельно обрабатывать их морфологию? или добавить новый морфологический класс \"foreign\"?\n",
        "* на экспериментах с шаблонами качество хуже, потому что находятся лишние униграммы, но мне понравились глазами результаты\n",
        "*   Тэги и хабы не самая удачная основа для ключевых слов, потому что в итоге оказывается, что не все они вообще есть в тексте\n",
        "\n"
      ],
      "metadata": {
        "id": "WzsPG-nvr_MZ"
      }
    }
  ]
}